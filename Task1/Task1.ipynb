{
 "cells": [
  {
   "cell_type": "code",
   "execution_count": 3,
   "id": "a1eb8ebb-0cad-4cdc-8fdb-e41ed5bce4b6",
   "metadata": {},
   "outputs": [
    {
     "name": "stdout",
     "output_type": "stream",
     "text": [
      "[1, 2, 3, 4, 5, 6]\n"
     ]
    }
   ],
   "source": [
    "#operations on list\n",
    "List1 = [1,2,3,4,5]\n",
    "List1.append(6)\n",
    "print(List1)"
   ]
  },
  {
   "cell_type": "code",
   "execution_count": 7,
   "id": "e639ef76-191e-46a0-8b88-e07346c0acf5",
   "metadata": {},
   "outputs": [
    {
     "name": "stdout",
     "output_type": "stream",
     "text": [
      "[1, 2, 4, 5]\n"
     ]
    }
   ],
   "source": [
    "List1 = [1,2,3,4,5]\n",
    "List1.remove(3)\n",
    "print(List1)"
   ]
  },
  {
   "cell_type": "code",
   "execution_count": 8,
   "id": "9b3b7ce3-8cda-4570-bf70-e9310f65e204",
   "metadata": {},
   "outputs": [
    {
     "name": "stdout",
     "output_type": "stream",
     "text": [
      "[10, 2, 3, 4, 5]\n"
     ]
    }
   ],
   "source": [
    "List1 = [1,2,3,4,5]\n",
    "List1[0] = 10\n",
    "print(List1)"
   ]
  },
  {
   "cell_type": "code",
   "execution_count": 11,
   "id": "af5cfb54-5397-410e-851f-843c024ebaa7",
   "metadata": {},
   "outputs": [
    {
     "name": "stdout",
     "output_type": "stream",
     "text": [
      "{'x': 1, 'y': 2, 'z': 3, 'p': 4, 'q': 5}\n"
     ]
    }
   ],
   "source": [
    "#operations on dictionary\n",
    "D1 = {'x': 1, 'y': 2, 'z': 3, 'p' : 4}\n",
    "D1['q'] = 5\n",
    "print(D1)"
   ]
  },
  {
   "cell_type": "code",
   "execution_count": 12,
   "id": "86988983-60a3-466b-8e1a-76945054613a",
   "metadata": {},
   "outputs": [
    {
     "name": "stdout",
     "output_type": "stream",
     "text": [
      "{'x': 1, 'y': 2, 'z': 3}\n"
     ]
    }
   ],
   "source": [
    "D1 = {'x': 1, 'y': 2, 'z': 3, 'p' : 4}\n",
    "del D1['p']\n",
    "print(D1)"
   ]
  },
  {
   "cell_type": "code",
   "execution_count": 13,
   "id": "acc35083-be4c-44c3-97c9-bc19fec8a198",
   "metadata": {},
   "outputs": [
    {
     "name": "stdout",
     "output_type": "stream",
     "text": [
      "{'x': 10, 'y': 2, 'z': 3, 'p': 4}\n"
     ]
    }
   ],
   "source": [
    "D1 = {'x': 1, 'y': 2, 'z': 3, 'p' : 4}\n",
    "D1['x'] = 10\n",
    "print(D1)"
   ]
  },
  {
   "cell_type": "code",
   "execution_count": 15,
   "id": "2da344f7-d5a4-4f03-b5e0-a89a33b895b8",
   "metadata": {},
   "outputs": [
    {
     "name": "stdout",
     "output_type": "stream",
     "text": [
      "{1, 2, 3, 4, 6}\n"
     ]
    }
   ],
   "source": [
    "#operations on set\n",
    "set1 = {1, 2, 3, 4}\n",
    "set1.add(6)\n",
    "print(set1)"
   ]
  },
  {
   "cell_type": "code",
   "execution_count": 16,
   "id": "5859b2ba-33c9-43ce-80f8-1768aac58ddb",
   "metadata": {},
   "outputs": [
    {
     "name": "stdout",
     "output_type": "stream",
     "text": [
      "{1, 2, 4}\n"
     ]
    }
   ],
   "source": [
    "set1 = {1, 2, 3, 4}\n",
    "set1.remove(3)\n",
    "print(set1)"
   ]
  },
  {
   "cell_type": "code",
   "execution_count": null,
   "id": "2af3362e-b93f-47c9-a798-54c48ebe3bed",
   "metadata": {},
   "outputs": [],
   "source": []
  }
 ],
 "metadata": {
  "kernelspec": {
   "display_name": "Python 3 (ipykernel)",
   "language": "python",
   "name": "python3"
  },
  "language_info": {
   "codemirror_mode": {
    "name": "ipython",
    "version": 3
   },
   "file_extension": ".py",
   "mimetype": "text/x-python",
   "name": "python",
   "nbconvert_exporter": "python",
   "pygments_lexer": "ipython3",
   "version": "3.11.4"
  }
 },
 "nbformat": 4,
 "nbformat_minor": 5
}
